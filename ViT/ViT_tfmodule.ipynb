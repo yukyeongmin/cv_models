{
 "cells": [
  {
   "cell_type": "code",
   "execution_count": 2,
   "metadata": {},
   "outputs": [],
   "source": [
    "import tensorflow as tf\n",
    "import numpy as np\n",
    "import matplotlib.pyplot as plt"
   ]
  },
  {
   "cell_type": "code",
   "execution_count": 3,
   "metadata": {},
   "outputs": [],
   "source": [
    "class Flatten(tf.Module):\n",
    "    def __init__(self, name=None):\n",
    "        super().__init__(name)\n",
    "\n",
    "    def __call__(self,inputs):\n",
    "        # (batch, height, width, patchsize)\n",
    "        return tf.reshape(inputs,shape=[inputs.shape[0],-1, inputs.shape[-1]])\n",
    "        "
   ]
  },
  {
   "cell_type": "code",
   "execution_count": 4,
   "metadata": {},
   "outputs": [],
   "source": [
    "class LinearProjection(tf.Module):\n",
    "    def __init__(self, projecition_dim, name=None):\n",
    "        super().__init__(name)\n",
    "        self.dense = tf.keras.layers.Dense(units=projecition_dim,name=name)\n",
    "\n",
    "    def __call__(self,inputs):\n",
    "        # (batch, patchnum, patchsize)\n",
    "        assert inputs.ndim==3, \"input shape to the LinearProjecition is wrong\"\n",
    "        x = self.dense(inputs)\n",
    "        return x"
   ]
  },
  {
   "cell_type": "code",
   "execution_count": 5,
   "metadata": {},
   "outputs": [],
   "source": [
    "class AddPositionEmbs(tf.Module):\n",
    "    # add learable 1D position embeding \n",
    "\n",
    "    def __init__(self, name=None):\n",
    "        super().__init__(name)\n",
    "\n",
    "    def __call__(self, inputs): \n",
    "        # (batch, patchnum+1, projection_dim)\n",
    "        # print(inputs.shape)\n",
    "        position_emb_shape = (1, inputs.shape[1], inputs.shape[2])\n",
    "        self.position_emb = tf.Variable(\n",
    "            initial_value=tf.random.normal(position_emb_shape),\n",
    "            name='PositionEmbs',\n",
    "            trainable=True\n",
    "        )\n",
    "        return inputs + self.position_emb # broadcasting"
   ]
  },
  {
   "cell_type": "code",
   "execution_count": 6,
   "metadata": {},
   "outputs": [],
   "source": [
    "class AddDummy(tf.Module):\n",
    "    # attach learnable parameter to inputs\n",
    "\n",
    "    def __init__(self, name=None):\n",
    "        super().__init__(name)\n",
    "\n",
    "    def __call__(self, inputs):\n",
    "        # (batch, patchnum, projection_dim)\n",
    "\n",
    "        assert inputs.ndim == 3, \"input shape to the AddDummy is wrong\"\n",
    "        dummy_shape = (1, 1, inputs.shape[2])\n",
    "        self.dummy = tf.Variable(\n",
    "            initial_value=tf.random.normal(dummy_shape),\n",
    "            name = 'dummy_patch',\n",
    "            trainable=True\n",
    "        )\n",
    "        \n",
    "        dummy = tf.repeat(self.dummy,repeats=[inputs.shape[0]], axis=0)\n",
    "        y = tf.concat([dummy,inputs], axis=1)\n",
    "        return y"
   ]
  },
  {
   "cell_type": "code",
   "execution_count": 7,
   "metadata": {},
   "outputs": [],
   "source": [
    "class PatchEmbedding(tf.Module):\n",
    "    # 1. add dummy patch and project patches to projection dimension \n",
    "    # 2. attach position embeddings to each patches \n",
    "    # NOTE add extra learnable class embedding to dummy patch\n",
    "\n",
    "    def __init__(self, projection_dim, name=None):\n",
    "        super().__init__(name=name)\n",
    "        self.flatten = Flatten(name=name+'_flattening')\n",
    "        self.projection = LinearProjection(projecition_dim=projection_dim, name=name+'_linear_projection')\n",
    "        self.add_dummy = AddDummy()\n",
    "        self.add_posemb = AddPositionEmbs()\n",
    "\n",
    "    def __call__(self, inputs):\n",
    "        # (batch, height, width, patchsize)\n",
    "        x = self.flatten(inputs)\n",
    "        x = self.projection(x)\n",
    "        x = self.add_dummy(x)\n",
    "        x = self.add_posemb(x)\n",
    "\n",
    "        return x # (batch, patchnum+1, patchsize)"
   ]
  },
  {
   "cell_type": "code",
   "execution_count": 124,
   "metadata": {},
   "outputs": [
    {
     "data": {
      "text/plain": [
       "<tf.Tensor: shape=(5, 2, 2), dtype=float32, numpy=\n",
       "array([[[ -0.42476523,   8.029542  ],\n",
       "        [ 41.232414  ,   6.809023  ]],\n",
       "\n",
       "       [[ 39.513515  ,  55.355705  ],\n",
       "        [ 48.67237   ,  44.746834  ]],\n",
       "\n",
       "       [[ 83.49648   ,  75.89939   ],\n",
       "        [101.47449   , 114.71094   ]],\n",
       "\n",
       "       [[119.910255  , 119.23215   ],\n",
       "        [121.887856  , 176.67961   ]],\n",
       "\n",
       "       [[124.84429   , 170.56232   ],\n",
       "        [187.56752   , 172.61804   ]]], dtype=float32)>"
      ]
     },
     "execution_count": 124,
     "metadata": {},
     "output_type": "execute_result"
    }
   ],
   "source": [
    "data = tf.constant(np.arange(20).reshape(5, 2, 2) * 10, dtype=tf.float32)\n",
    "noise = tf.random.normal(shape=[5,2,2],stddev=20)\n",
    "data = noise+data\n",
    "data"
   ]
  },
  {
   "cell_type": "code",
   "execution_count": 111,
   "metadata": {},
   "outputs": [
    {
     "data": {
      "text/plain": [
       "<tf.Tensor: shape=(5, 2), dtype=float32, numpy=\n",
       "array([[-1.434181  , -1.4138632 ],\n",
       "       [-0.69455564, -0.7045014 ],\n",
       "       [ 0.02757359,  0.00374174],\n",
       "       [ 0.69525576,  0.6906787 ],\n",
       "       [ 1.4059069 ,  1.4239436 ]], dtype=float32)>"
      ]
     },
     "execution_count": 111,
     "metadata": {},
     "output_type": "execute_result"
    }
   ],
   "source": [
    "n1 = tf.keras.layers.LayerNormalization(axis=0)\n",
    "n1(data)[:,1,:]"
   ]
  },
  {
   "cell_type": "code",
   "execution_count": 118,
   "metadata": {},
   "outputs": [
    {
     "data": {
      "text/plain": [
       "<tf.Tensor: shape=(2, 2), dtype=float32, numpy=\n",
       "array([[-0.9999951 , -0.9999956 ],\n",
       "       [ 0.9999952 ,  0.99999535]], dtype=float32)>"
      ]
     },
     "execution_count": 118,
     "metadata": {},
     "output_type": "execute_result"
    }
   ],
   "source": [
    "n2 = tf.keras.layers.LayerNormalization(axis=1)\n",
    "n2(data)[0,:,:]"
   ]
  },
  {
   "cell_type": "code",
   "execution_count": 135,
   "metadata": {},
   "outputs": [
    {
     "name": "stdout",
     "output_type": "stream",
     "text": [
      "tf.Tensor(\n",
      "[[-0.999972    0.999972  ]\n",
      " [-0.9999917   0.99999243]\n",
      " [ 0.9999648  -0.9999659 ]\n",
      " [ 0.99567866 -0.9956788 ]\n",
      " [-0.9999993   0.99999887]], shape=(5, 2), dtype=float32)\n",
      "tf.Tensor(\n",
      "[[ 0.99999833 -0.99999815]\n",
      " [ 0.9998695  -0.99987096]\n",
      " [-0.99998856  0.99998873]\n",
      " [-0.9999994   0.9999992 ]\n",
      " [ 0.999992   -0.9999902 ]], shape=(5, 2), dtype=float32)\n"
     ]
    }
   ],
   "source": [
    "n3 = tf.keras.layers.LayerNormalization(axis=2)\n",
    "print(n3(data)[:,0,:])\n",
    "print(n3(data)[:,1,:])"
   ]
  },
  {
   "cell_type": "code",
   "execution_count": 8,
   "metadata": {},
   "outputs": [],
   "source": [
    "class MLP(tf.Module):\n",
    "    # MLP layer for transformer encoder\n",
    "    # two layers with a GELU non-linearity\n",
    "\n",
    "    # dense-gelu-dropout-dense-dropout\n",
    "    def __init__(self, mlp_dim, output_dim, dropout_rate, name):\n",
    "        super().__init__(name=name)\n",
    "        self.mlp_dim = mlp_dim\n",
    "        self.output_dim = output_dim\n",
    "        self.dropout_rate = dropout_rate\n",
    "\n",
    "        self.dense_1 = tf.keras.layers.Dense(\n",
    "            mlp_dim, \n",
    "            kernel_initializer = tf.keras.initializers.GlorotNormal(),\n",
    "            bias_initializer = tf.keras.initializers.RandomNormal(stddev=1e-6), \n",
    "            activation=tf.nn.gelu, \n",
    "            trainable=True,\n",
    "            name=name+'_dense1'\n",
    "        )\n",
    "        self.dropout = tf.keras.layers.Dropout(rate=dropout_rate, name=name+'_dropout')\n",
    "        self.dense_2 = tf.keras.layers.Dense(\n",
    "            output_dim, \n",
    "            kernel_initializer = tf.keras.initializers.GlorotNormal(),\n",
    "            bias_initializer = tf.keras.initializers.RandomNormal(stddev=1e-6), \n",
    "            activation=tf.nn.gelu, \n",
    "            trainable=True,\n",
    "            name=name+'_dense2'\n",
    "        )\n",
    "            # kernel은 xavier uniform/ bias는 normal(stddev=1e-6)\n",
    "            # TODO check activaiton GELU's location \n",
    "\n",
    "    def __call__(self, inputs):\n",
    "        y = self.dense_1(inputs)\n",
    "        y = self.dense_2(y)\n",
    "        return y"
   ]
  },
  {
   "cell_type": "code",
   "execution_count": 16,
   "metadata": {},
   "outputs": [],
   "source": [
    "MLP_DIM = 100\n",
    "DROPOUT_RATE = 0.7\n",
    "ATTENTION_DROPOUT_RATE = 0.9\n",
    "# ATTENTION_HIDDEN_DIM\n",
    "# ATTENTION_OUTPUT_DIM\n",
    "# TODO 매개변수 편하게 표현할 방법"
   ]
  },
  {
   "cell_type": "code",
   "execution_count": 9,
   "metadata": {},
   "outputs": [],
   "source": [
    "class EncoderBlock(tf.Module):\n",
    "    # Layer Norm / MHA+dropout / skip-connection / Layer Norm/ MLP / skip-connection\n",
    "\n",
    "    def __init__(self, projection_dim, name=None):\n",
    "        super().__init__(name)\n",
    "        self.layer_norm = tf.keras.layers.LayerNormalization(axis=0, name=name+'_layer_norm')\n",
    "        self.MHA = tf.keras.layers.MultiHeadAttention(\n",
    "            num_heads=1,\n",
    "            key_dim=50,\n",
    "            value_dim=100,\n",
    "            dropout=ATTENTION_DROPOUT_RATE,\n",
    "            use_bias=False,\n",
    "            #output_shape=(-1,input_shape[1],self.hidden_dim),\n",
    "            attention_axes=(1,2),\n",
    "\n",
    "            kernel_initializer=tf.keras.initializers.GlorotNormal(),\n",
    "            trainable=True,\n",
    "            name=name+'_MHA'\n",
    "        )\n",
    "        self.dropout = tf.keras.layers.Dropout(DROPOUT_RATE,name=name+'_dropout')\n",
    "        self.MLP = MLP(\n",
    "            mlp_dim=MLP_DIM, \n",
    "            output_dim=projection_dim, \n",
    "            dropout_rate=DROPOUT_RATE, \n",
    "            name=name+'_encoder_mlp'\n",
    "        )\n",
    "        # TODO check the value of mlpdim and dropout_rate\n",
    "\n",
    "    def __call__(self, inputs):\n",
    "        x1 = self.layer_norm(inputs)\n",
    "        x1 = self.MHA(x1,x1)\n",
    "        x1 = self.dropout(x1)\n",
    "        skip2 = x1 + inputs\n",
    "        x2 = self.layer_norm(skip2)\n",
    "        x2 = self.MLP(x2)\n",
    "        outputs = x2+skip2\n",
    "\n",
    "        return outputs"
   ]
  },
  {
   "cell_type": "code",
   "execution_count": 10,
   "metadata": {},
   "outputs": [],
   "source": [
    "class Encoder(tf.Module):\n",
    "\n",
    "    def __init__(self, block_num, projection_dim, name=None):\n",
    "        super().__init__(name)\n",
    "        self.block_num = block_num\n",
    "        self.patch_embedding = PatchEmbedding(projection_dim=projection_dim, name='patch_embs')\n",
    "        self.encoder_block = EncoderBlock(projection_dim=projection_dim, name='encoder_block')\n",
    "        self.encoder_norm = tf.keras.layers.LayerNormalization(axis=0, name='encoder_norm')\n",
    "\n",
    "    def __call__(self, inputs):\n",
    "        self.emb = self.patch_embedding(inputs)\n",
    "        for i in range(self.block_num):\n",
    "            self.encoded = self.encoder_block(self.emb)\n",
    "\n",
    "        # self.encoded_norm = self.encoder_norm(self.encoded)\n",
    "        '''\n",
    "        TODO check encoder norm is needed.\n",
    "        encoded_norm makes the final result all zero.\n",
    "        '''\n",
    "        \n",
    "        return self.encoded"
   ]
  },
  {
   "cell_type": "code",
   "execution_count": 14,
   "metadata": {},
   "outputs": [],
   "source": [
    "class VisionTransformer(tf.Module):\n",
    "    def __init__(self, patch_size,block_num, projection_dim, class_num, name=None):\n",
    "        super().__init__(name)\n",
    "        self.patch_size = patch_size\n",
    "        self.class_num = class_num\n",
    "        self.encoder = Encoder(block_num = block_num, projection_dim=projection_dim)\n",
    "        self.classifier = tf.keras.layers.Dense(class_num, name='classifier')\n",
    "        self.softmax = tf.keras.layers.Softmax()\n",
    "\n",
    "    def __call__(self, inputs):\n",
    "        # (batch, height, width)\n",
    "        patches = tf.image.extract_patches(\n",
    "            inputs,\n",
    "            sizes=[1,self.patch_size,self.patch_size,1], \n",
    "            strides=[1,self.patch_size,self.patch_size,1],\n",
    "            rates=[1,1,1,1],\n",
    "            padding='VALID'\n",
    "        )\n",
    "        if inputs.shape[0] == 1:\n",
    "            # batch가 아닌 1개의 이미지가 들어온 경우\n",
    "            # 배치 개수만큼 늘려주자\n",
    "            patches = tf.repeat(input=patches, repeats=[inputs.shape[0]], axis=0)\n",
    "            \n",
    "        encoded = self.encoder(patches)\n",
    "        self.class_token = encoded[:,0,:]\n",
    "        if len(self.class_token.shape) == 3:\n",
    "            self.class_token = tf.squeeze(self.class_token, axis=1)\n",
    "\n",
    "        outputs = self.classifier(self.class_token)\n",
    "        outputs = self.softmax(outputs)\n",
    "\n",
    "        return outputs"
   ]
  },
  {
   "cell_type": "markdown",
   "metadata": {},
   "source": [
    "### 모델 동작 확인"
   ]
  },
  {
   "cell_type": "code",
   "execution_count": 45,
   "metadata": {},
   "outputs": [],
   "source": [
    "from PIL import Image\n",
    "import numpy as np\n",
    "from io import BytesIO\n",
    "import requests\n",
    "\n",
    "def preprocess_image(image):\n",
    "    image = np.array(image)\n",
    "    image_resized = tf.image.resize(image, (32, 32))\n",
    "    image_resized = tf.cast(image_resized, tf.float32)\n",
    "    image_resized = (image_resized - 127.5) / 127.5\n",
    "    return tf.expand_dims(image_resized, 0).numpy()\n",
    "\n",
    "def load_image_from_url(url):\n",
    "    response = requests.get(url)\n",
    "    image = Image.open(BytesIO(response.content))\n",
    "    image = preprocess_image(image)\n",
    "    return image\n",
    "\n",
    "img_url = \"https://p0.pikrepo.com/preview/853/907/close-up-photo-of-gray-elephant.jpg\"\n",
    "image = load_image_from_url(img_url)"
   ]
  },
  {
   "cell_type": "code",
   "execution_count": 63,
   "metadata": {},
   "outputs": [],
   "source": [
    "self.patch_size = 16\n",
    "\n",
    "resized_image = tf.image.resize(image, [64,32])\n",
    "images = tf.repeat(image,[100], axis=0)\n",
    "patches = tf.image.extract_patches(images, \n",
    "                    sizes=[1,self.patch_size,self.patch_size,1], \n",
    "                    strides=[1,self.patch_size,self.patch_size,1],\n",
    "                    rates=[1,1,1,1],\n",
    "                    padding='VALID'\n",
    "                )"
   ]
  },
  {
   "cell_type": "code",
   "execution_count": 57,
   "metadata": {},
   "outputs": [
    {
     "name": "stderr",
     "output_type": "stream",
     "text": [
      "Clipping input data to the valid range for imshow with RGB data ([0..1] for floats or [0..255] for integers).\n"
     ]
    },
    {
     "data": {
      "text/plain": [
       "<matplotlib.image.AxesImage at 0x7f11b03d2160>"
      ]
     },
     "execution_count": 57,
     "metadata": {},
     "output_type": "execute_result"
    },
    {
     "data": {
      "image/png": "[encoded data removed]",
      "text/plain": [
       "<Figure size 432x288 with 1 Axes>"
      ]
     },
     "metadata": {
      "needs_background": "light"
     },
     "output_type": "display_data"
    }
   ],
   "source": [
    "plt.imshow(resized_image[0])"
   ]
  },
  {
   "cell_type": "code",
   "execution_count": 50,
   "metadata": {},
   "outputs": [
    {
     "name": "stderr",
     "output_type": "stream",
     "text": [
      "Clipping input data to the valid range for imshow with RGB data ([0..1] for floats or [0..255] for integers).\n"
     ]
    },
    {
     "data": {
      "text/plain": [
       "<matplotlib.image.AxesImage at 0x7f11b045fe20>"
      ]
     },
     "execution_count": 50,
     "metadata": {},
     "output_type": "execute_result"
    },
    {
     "data": {
      "image/png": "[encoded data removed]",
      "text/plain": [
       "<Figure size 432x288 with 1 Axes>"
      ]
     },
     "metadata": {
      "needs_background": "light"
     },
     "output_type": "display_data"
    }
   ],
   "source": [
    "plt.imshow(image[0])"
   ]
  },
  {
   "cell_type": "code",
   "execution_count": 72,
   "metadata": {},
   "outputs": [
    {
     "data": {
      "text/plain": [
       "TensorShape([100, 2, 2, 768])"
      ]
     },
     "execution_count": 72,
     "metadata": {},
     "output_type": "execute_result"
    }
   ],
   "source": [
    "patches.shape"
   ]
  },
  {
   "cell_type": "code",
   "execution_count": 74,
   "metadata": {},
   "outputs": [
    {
     "data": {
      "text/plain": [
       "TensorShape([100, 5, 100])"
      ]
     },
     "execution_count": 74,
     "metadata": {},
     "output_type": "execute_result"
    }
   ],
   "source": [
    "p = PatchEmbedding(projection_dim=100)\n",
    "p(patches).shape"
   ]
  },
  {
   "cell_type": "code",
   "execution_count": 155,
   "metadata": {},
   "outputs": [
    {
     "data": {
      "text/plain": [
       "TensorShape([100, 2, 2, 768])"
      ]
     },
     "execution_count": 155,
     "metadata": {},
     "output_type": "execute_result"
    }
   ],
   "source": [
    "patches.shape"
   ]
  },
  {
   "cell_type": "code",
   "execution_count": 202,
   "metadata": {},
   "outputs": [
    {
     "data": {
      "text/plain": [
       "TensorShape([100, 5, 100])"
      ]
     },
     "execution_count": 202,
     "metadata": {},
     "output_type": "execute_result"
    }
   ],
   "source": [
    "e = Encoder(projection_dim=100, name='encoder')\n",
    "e(patches, block_num=1).shape"
   ]
  },
  {
   "cell_type": "code",
   "execution_count": 199,
   "metadata": {},
   "outputs": [
    {
     "data": {
      "text/plain": [
       "16"
      ]
     },
     "execution_count": 199,
     "metadata": {},
     "output_type": "execute_result"
    }
   ],
   "source": [
    "len(e.trainable_variables)\n",
    "# MHA - 4\n",
    "# MLP - 2*2\n",
    "# LM in MLP - 2\n",
    "# LM in encoder - 2\n",
    "# dummy - 1\n",
    "# posemb - 1\n",
    "# linear projection - 2"
   ]
  },
  {
   "cell_type": "code",
   "execution_count": 253,
   "metadata": {},
   "outputs": [
    {
     "data": {
      "text/plain": [
       "[1, 1, 1, 1, 1, 1, 1, 1, 1, 1]"
      ]
     },
     "execution_count": 253,
     "metadata": {},
     "output_type": "execute_result"
    }
   ],
   "source": [
    "[1]*10"
   ]
  },
  {
   "cell_type": "code",
   "execution_count": 256,
   "metadata": {},
   "outputs": [],
   "source": [
    "images = tf.stack([image]*10)\n",
    "images = tf.squeeze(images)"
   ]
  },
  {
   "cell_type": "markdown",
   "metadata": {},
   "source": []
  },
  {
   "cell_type": "code",
   "execution_count": 262,
   "metadata": {},
   "outputs": [
    {
     "data": {
      "text/plain": [
       "<tf.Tensor: shape=(10, 1000), dtype=float32, numpy=\n",
       "array([[0.00099019, 0.00132887, 0.00110782, ..., 0.00078618, 0.00091062,\n",
       "        0.00100394],\n",
       "       [0.00099019, 0.00132887, 0.00110782, ..., 0.00078618, 0.00091062,\n",
       "        0.00100394],\n",
       "       [0.00099019, 0.00132887, 0.00110782, ..., 0.00078618, 0.00091062,\n",
       "        0.00100394],\n",
       "       ...,\n",
       "       [0.00099019, 0.00132887, 0.00110782, ..., 0.00078618, 0.00091062,\n",
       "        0.00100394],\n",
       "       [0.00099019, 0.00132887, 0.00110782, ..., 0.00078618, 0.00091062,\n",
       "        0.00100394],\n",
       "       [0.00099019, 0.00132887, 0.00110782, ..., 0.00078618, 0.00091062,\n",
       "        0.00100394]], dtype=float32)>"
      ]
     },
     "execution_count": 262,
     "metadata": {},
     "output_type": "execute_result"
    }
   ],
   "source": [
    "vit = VisionTransformer(patch_size=16, block_num=1, projection_dim=20, class_num=1000)\n",
    "vit(images)"
   ]
  },
  {
   "cell_type": "markdown",
   "metadata": {},
   "source": [
    "### 모델 훈련"
   ]
  },
  {
   "cell_type": "code",
   "execution_count": 17,
   "metadata": {},
   "outputs": [],
   "source": [
    "vit = VisionTransformer(patch_size=16, block_num=1, projection_dim=20, class_num=1000)"
   ]
  },
  {
   "cell_type": "code",
   "execution_count": 18,
   "metadata": {},
   "outputs": [
    {
     "name": "stdout",
     "output_type": "stream",
     "text": [
      "x_train shape: (50000, 32, 32, 3) - y_train shape: (50000, 1)\n",
      "x_test shape: (10000, 32, 32, 3) - y_test shape: (10000, 1)\n"
     ]
    }
   ],
   "source": [
    "(x_train, y_train), (x_test, y_test) = tf.keras.datasets.cifar100.load_data()\n",
    "\n",
    "print(f\"x_train shape: {x_train.shape} - y_train shape: {y_train.shape}\")\n",
    "print(f\"x_test shape: {x_test.shape} - y_test shape: {y_test.shape}\")\n",
    "\n"
   ]
  },
  {
   "cell_type": "code",
   "execution_count": 25,
   "metadata": {},
   "outputs": [],
   "source": [
    "y_test_sample = tf.keras.utils.to_categorical(y_test[:10], 1000)\n",
    "y_train_sample = tf.keras.utils.to_categorical(y_test[:10], 1000)"
   ]
  },
  {
   "cell_type": "code",
   "execution_count": 26,
   "metadata": {},
   "outputs": [],
   "source": [
    "x_train_dataset = tf.data.Dataset.from_tensor_slices(x_train)\n",
    "y_train_dataset = tf.data.Dataset.from_tensor_slices(y_train)\n",
    "x_test_dataset = tf.data.Dataset.from_tensor_slices(x_test)\n",
    "y_test_dataset = tf.data.Dataset.from_tensor_slices(y_test)\n",
    "train_dataset = tf.data.Dataset.zip((x_train_dataset, y_train_dataset))\n",
    "test_dataset = tf.data.Dataset.zip((x_test_dataset, y_test_dataset))\n",
    "\n",
    "train_batch = train_dataset.batch(100)\n",
    "test_batch = test_dataset.batch(100)"
   ]
  },
  {
   "cell_type": "code",
   "execution_count": 27,
   "metadata": {},
   "outputs": [],
   "source": [
    "cce = tf.keras.losses.CategoricalCrossentropy()\n",
    "optimizer = tf.keras.optimizers.SGD(learning_rate=1e-3)"
   ]
  },
  {
   "cell_type": "code",
   "execution_count": 28,
   "metadata": {},
   "outputs": [],
   "source": [
    "\n",
    "# TODO make training code faster\n",
    "# Given a callable model, inputs, outputs, and a learning rate...\n",
    "def train(model, x, y):\n",
    "\n",
    "  with tf.GradientTape() as tape:\n",
    "    # Trainable variables are automatically tracked by \n",
    "    y = tf.keras.utils.to_categorical(y,1000)\n",
    "    y_ = model(x)\n",
    "    current_loss = cce(y, y_)\n",
    "\n",
    "  # Use GradientTape to calculate the gradients with respect to parameters in model\n",
    "  gradients = tape.gradient(current_loss, model.trainable_variables)\n",
    "  optimizer.apply_gradients(zip(gradients, model.trainable_variables))\n",
    "\n",
    "  # Subtract the gradient scaled by the learning rate\n",
    "  # model.w.assign_sub(learning_rate * dw)\n",
    "  # model.b.assign_sub(learning_rate * db)\n",
    "  return current_loss"
   ]
  },
  {
   "cell_type": "code",
   "execution_count": 29,
   "metadata": {},
   "outputs": [],
   "source": [
    "epochs = 100\n",
    "# Define a training loop\n",
    "def training_loop(model, batch):\n",
    "\n",
    "  for epoch in range(epochs):\n",
    "    # Update the model with the single giant batch\n",
    "    for step, (x_batch, y_batch) in enumerate(batch):\n",
    "      minibatch_loss = train(model, x_batch, y_batch)\n",
    "\n",
    "    # Track this before I update\n",
    "    # Ws.append(model.w.numpy())\n",
    "    # bs.append(model.b.numpy())\n",
    "\n",
    "    print(\"Epoch %2d: loss=%2.5f\" % (epoch, minibatch_loss))"
   ]
  },
  {
   "cell_type": "code",
   "execution_count": 30,
   "metadata": {},
   "outputs": [
    {
     "name": "stderr",
     "output_type": "stream",
     "text": [
      "2022-11-15 19:25:58.088776: I tensorflow/stream_executor/cuda/cuda_blas.cc:1786] TensorFloat-32 will be used for the matrix multiplication. This will only be logged once.\n",
      "2022-11-15 19:25:58.122016: W tensorflow/python/util/util.cc:368] Sets are not currently considered sequences, but this may change in the future, so consider avoiding using them.\n"
     ]
    },
    {
     "name": "stdout",
     "output_type": "stream",
     "text": [
      "Epoch  0: loss=6.91923\n",
      "Epoch  1: loss=6.91296\n",
      "Epoch  2: loss=7.00701\n",
      "Epoch  3: loss=6.94552\n",
      "Epoch  4: loss=6.90667\n",
      "Epoch  5: loss=6.95655\n",
      "Epoch  6: loss=6.91465\n",
      "Epoch  7: loss=6.91146\n",
      "Epoch  8: loss=6.81367\n",
      "Epoch  9: loss=6.78720\n",
      "Epoch 10: loss=6.70989\n",
      "Epoch 11: loss=6.74984\n",
      "Epoch 12: loss=6.64445\n",
      "Epoch 13: loss=6.82197\n",
      "Epoch 14: loss=6.61170\n",
      "Epoch 15: loss=6.62758\n",
      "Epoch 16: loss=6.61216\n",
      "Epoch 17: loss=6.62161\n",
      "Epoch 18: loss=6.19454\n",
      "Epoch 19: loss=6.26049\n",
      "Epoch 20: loss=6.28317\n",
      "Epoch 21: loss=6.06780\n",
      "Epoch 22: loss=5.85774\n",
      "Epoch 23: loss=5.68926\n",
      "Epoch 24: loss=5.57079\n",
      "Epoch 25: loss=5.17103\n",
      "Epoch 26: loss=5.26013\n",
      "Epoch 27: loss=5.22982\n",
      "Epoch 28: loss=5.11142\n",
      "Epoch 29: loss=5.01365\n",
      "Epoch 30: loss=4.69790\n",
      "Epoch 31: loss=4.83433\n",
      "Epoch 32: loss=4.67190\n",
      "Epoch 33: loss=4.63691\n",
      "Epoch 34: loss=4.52287\n",
      "Epoch 35: loss=4.61028\n",
      "Epoch 36: loss=4.44076\n",
      "Epoch 37: loss=4.41658\n",
      "Epoch 38: loss=4.46938\n",
      "Epoch 39: loss=4.51879\n",
      "Epoch 40: loss=4.44682\n",
      "Epoch 41: loss=4.36723\n",
      "Epoch 42: loss=4.36634\n",
      "Epoch 43: loss=4.47352\n",
      "Epoch 44: loss=4.40003\n",
      "Epoch 45: loss=4.34512\n",
      "Epoch 46: loss=4.42904\n",
      "Epoch 47: loss=4.32510\n",
      "Epoch 48: loss=4.29971\n",
      "Epoch 49: loss=4.38928\n",
      "Epoch 50: loss=4.32877\n",
      "Epoch 51: loss=4.30054\n",
      "Epoch 52: loss=4.34691\n",
      "Epoch 53: loss=4.42032\n",
      "Epoch 54: loss=4.36494\n",
      "Epoch 55: loss=4.34286\n",
      "Epoch 56: loss=4.39150\n",
      "Epoch 57: loss=4.39426\n",
      "Epoch 58: loss=4.34069\n",
      "Epoch 59: loss=4.30878\n",
      "Epoch 60: loss=4.31257\n",
      "Epoch 61: loss=4.37032\n",
      "Epoch 62: loss=4.28523\n",
      "Epoch 63: loss=4.33260\n",
      "Epoch 64: loss=4.26903\n",
      "Epoch 65: loss=4.34236\n",
      "Epoch 66: loss=4.29934\n",
      "Epoch 67: loss=4.26983\n",
      "Epoch 68: loss=4.31322\n",
      "Epoch 69: loss=4.32200\n",
      "Epoch 70: loss=4.27024\n",
      "Epoch 71: loss=4.30791\n",
      "Epoch 72: loss=4.29230\n",
      "Epoch 73: loss=4.26509\n",
      "Epoch 74: loss=4.25552\n",
      "Epoch 75: loss=4.28404\n",
      "Epoch 76: loss=4.23568\n",
      "Epoch 77: loss=4.37057\n",
      "Epoch 78: loss=4.27412\n",
      "Epoch 79: loss=4.25780\n",
      "Epoch 80: loss=4.25622\n",
      "Epoch 81: loss=4.28220\n",
      "Epoch 82: loss=4.28520\n",
      "Epoch 83: loss=4.21614\n",
      "Epoch 84: loss=4.19727\n",
      "Epoch 85: loss=4.27099\n",
      "Epoch 86: loss=4.22037\n",
      "Epoch 87: loss=4.26535\n",
      "Epoch 88: loss=4.22575\n",
      "Epoch 89: loss=4.25997\n",
      "Epoch 90: loss=4.18363\n",
      "Epoch 91: loss=4.18884\n",
      "Epoch 92: loss=4.20659\n",
      "Epoch 93: loss=4.17392\n",
      "Epoch 94: loss=4.18927\n",
      "Epoch 95: loss=4.22815\n",
      "Epoch 96: loss=4.20759\n",
      "Epoch 97: loss=4.24895\n",
      "Epoch 98: loss=4.17411\n",
      "Epoch 99: loss=4.18847\n"
     ]
    }
   ],
   "source": [
    "training_loop(vit, train_batch)"
   ]
  },
  {
   "cell_type": "markdown",
   "metadata": {},
   "source": [
    "### 훈련후 확인"
   ]
  },
  {
   "cell_type": "code",
   "execution_count": 35,
   "metadata": {},
   "outputs": [
    {
     "data": {
      "text/plain": [
       "<__main__.LinearProjection at 0x7f056fdf75b0>"
      ]
     },
     "execution_count": 35,
     "metadata": {},
     "output_type": "execute_result"
    }
   ],
   "source": [
    "vit.submodules[0]."
   ]
  },
  {
   "cell_type": "markdown",
   "metadata": {},
   "source": [
    "### 이미지 제너레이터"
   ]
  },
  {
   "cell_type": "code",
   "execution_count": 305,
   "metadata": {},
   "outputs": [],
   "source": [
    "import os\n",
    "import pandas as pd\n",
    "import csv"
   ]
  },
  {
   "cell_type": "code",
   "execution_count": 306,
   "metadata": {},
   "outputs": [],
   "source": [
    "def loadCSVData(path, rootpath):\n",
    "\n",
    "    filecsv   = open(path)\n",
    "    csvreader = csv.reader(filecsv)\n",
    "    rows = []\n",
    "    \n",
    "    header = []\n",
    "    header = next(csvreader)\n",
    "    \n",
    "    for row in csvreader:\n",
    "        try:\n",
    "\n",
    "            impath =  \"{}/{}jpg\".format(rootpath, row[0])\n",
    "        \n",
    "            new_row = {'elevation':float(row[1]),\n",
    "                    'azimuth': float(row[2]),\n",
    "                    'impath':impath}\n",
    "            \n",
    "            rows.append(new_row)\n",
    "            \n",
    "        except Exception as e:\n",
    "            print(e)\n",
    "    \n",
    "    return rows "
   ]
  },
  {
   "cell_type": "code",
   "execution_count": null,
   "metadata": {},
   "outputs": [
    {
     "name": "stdout",
     "output_type": "stream",
     "text": [
      "train_rows: 28796\n",
      "Found 18448 validated image filenames.\n",
      "Found 4612 validated image filenames.\n",
      "/home/cvnar1/Desktop/teamHDR/data\n",
      "Found 4043 validated image filenames.\n"
     ]
    },
    {
     "name": "stderr",
     "output_type": "stream",
     "text": [
      "/home/cvnar1/anaconda3/envs/tensorflow2.8/lib/python3.9/site-packages/keras_preprocessing/image/dataframe_iterator.py:279: UserWarning: Found 5736 invalid image filename(s) in x_col=\"impath\". These filename(s) will be ignored.\n",
      "  warnings.warn(\n",
      "/home/cvnar1/anaconda3/envs/tensorflow2.8/lib/python3.9/site-packages/keras_preprocessing/image/dataframe_iterator.py:279: UserWarning: Found 5736 invalid image filename(s) in x_col=\"impath\". These filename(s) will be ignored.\n",
      "  warnings.warn(\n",
      "/home/cvnar1/anaconda3/envs/tensorflow2.8/lib/python3.9/site-packages/keras_preprocessing/image/dataframe_iterator.py:279: UserWarning: Found 3155 invalid image filename(s) in x_col=\"impath\". These filename(s) will be ignored.\n",
      "  warnings.warn(\n"
     ]
    }
   ],
   "source": [
    "train_csvpath = os.path.join(root_data,\"train_listed.csv\")\n",
    "train_datapath = os.path.join(root_data,\"ldr_train/\")\n",
    "train_rows = loadCSVData(train_csvpath,train_datapath)\n",
    "print(\"train_rows:\",len(train_rows))\n",
    "\n",
    "train_df = pd.DataFrame.from_records(train_rows)\n",
    "train_df = train_df.sample(frac=1.0,  random_state=1)\n",
    "train_df = train_df.reset_index(drop=True)\n",
    "\n",
    "train_generator = tf.keras.preprocessing.image.ImageDataGenerator(\n",
    "    rescale=1./255,\n",
    "    validation_split=0.2\n",
    ")\n",
    "train_images  = train_generator.flow_from_dataframe(\n",
    "    dataframe =  train_df,\n",
    "    x_col = 'impath',\n",
    "    y_col = ['elevation', 'azimuth'],\n",
    "    target_size = input_shape[:2],\n",
    "    #target_size = (120,120),\n",
    "    #color_mode='grayscale',\n",
    "    color_mode='rgb',\n",
    "    class_mode = 'raw',\n",
    "    batch_size =BATCH_SIZE,\n",
    "    shuffle=False,\n",
    "    seed=SEED,\n",
    "    subset='training'\n",
    ")\n",
    "val_images  = train_generator.flow_from_dataframe(\n",
    "    dataframe =  train_df,\n",
    "    x_col = 'impath',\n",
    "    y_col = ['elevation', 'azimuth'],\n",
    "    target_size = input_shape[:2],\n",
    "    #target_size = (120,120),\n",
    "    #color_mode='grayscale',\n",
    "    color_mode='rgb',\n",
    "    class_mode = 'raw',\n",
    "    batch_size =BATCH_SIZE,\n",
    "    shuffle=False,\n",
    "    seed=SEED,\n",
    "    subset='validation'\n",
    ")\n",
    "\n",
    "print(root_data)\n",
    "test_csvpath  =  os.path.join(root_data,\"val_listed.csv\")\n",
    "test_datapath =  os.path.join(root_data,\"ldr_val/\")\n",
    "test_rows = loadCSVData(test_csvpath, test_datapath)\n",
    "\n",
    "test_df = pd.DataFrame.from_records(test_rows)\n",
    "# test_df = test_df.sample(frac=1.0,  random_state=1)\n",
    "# test_df = test_df.reset_index(drop=True)\n",
    "\n",
    "test_generator = tf.keras.preprocessing.image.ImageDataGenerator(\n",
    "    rescale=1./255\n",
    ")\n",
    "test_images  = test_generator.flow_from_dataframe(\n",
    "    dataframe =  test_df,\n",
    "    x_col = 'impath',\n",
    "    y_col = ['elevation', 'azimuth'],\n",
    "    target_size = (256,1024),\n",
    "    #target_size = (500,500),\n",
    "    #target_size = (120,120),\n",
    "    #color_mode='grayscale',\n",
    "    color_mode='rgb',\n",
    "    class_mode = 'raw',\n",
    "    batch_size =BATCH_SIZE,\n",
    "    shuffle=False\n",
    ")\n",
    "test_labels = test_images.labels"
   ]
  },
  {
   "cell_type": "code",
   "execution_count": 303,
   "metadata": {},
   "outputs": [
    {
     "ename": "InvalidArgumentError",
     "evalue": "Exception encountered when calling layer \"encoder_block_layer_norm\" (type LayerNormalization).\n\nInput to reshape is a tensor with 10 values, but the requested shape has 10000 [Op:Reshape]\n\nCall arguments received:\n  • inputs=tf.Tensor(shape=(10000, 5, 20), dtype=float32)",
     "output_type": "error",
     "traceback": [
      "\u001b[0;31m---------------------------------------------------------------------------\u001b[0m",
      "\u001b[0;31mInvalidArgumentError\u001b[0m                      Traceback (most recent call last)",
      "\u001b[1;32m/home/cvnar1/Desktop/model/ViT/ViT_tfmodule.ipynb 셀 37\u001b[0m in \u001b[0;36m<cell line: 1>\u001b[0;34m()\u001b[0m\n\u001b[0;32m----> <a href='vscode-notebook-cell:/home/cvnar1/Desktop/model/ViT/ViT_tfmodule.ipynb#Y132sZmlsZQ%3D%3D?line=0'>1</a>\u001b[0m training_loop(vit, x_test, y_test)\n",
      "\u001b[1;32m/home/cvnar1/Desktop/model/ViT/ViT_tfmodule.ipynb 셀 37\u001b[0m in \u001b[0;36mtraining_loop\u001b[0;34m(model, x, y)\u001b[0m\n\u001b[1;32m      <a href='vscode-notebook-cell:/home/cvnar1/Desktop/model/ViT/ViT_tfmodule.ipynb#Y132sZmlsZQ%3D%3D?line=2'>3</a>\u001b[0m \u001b[39mdef\u001b[39;00m \u001b[39mtraining_loop\u001b[39m(model, x, y):\n\u001b[1;32m      <a href='vscode-notebook-cell:/home/cvnar1/Desktop/model/ViT/ViT_tfmodule.ipynb#Y132sZmlsZQ%3D%3D?line=4'>5</a>\u001b[0m   \u001b[39mfor\u001b[39;00m epoch \u001b[39min\u001b[39;00m \u001b[39mrange\u001b[39m(epochs):\n\u001b[1;32m      <a href='vscode-notebook-cell:/home/cvnar1/Desktop/model/ViT/ViT_tfmodule.ipynb#Y132sZmlsZQ%3D%3D?line=5'>6</a>\u001b[0m     \u001b[39m# Update the model with the single giant batch\u001b[39;00m\n\u001b[0;32m----> <a href='vscode-notebook-cell:/home/cvnar1/Desktop/model/ViT/ViT_tfmodule.ipynb#Y132sZmlsZQ%3D%3D?line=6'>7</a>\u001b[0m     train(model, x, y, learning_rate\u001b[39m=\u001b[39;49m\u001b[39m0.1\u001b[39;49m)\n\u001b[1;32m      <a href='vscode-notebook-cell:/home/cvnar1/Desktop/model/ViT/ViT_tfmodule.ipynb#Y132sZmlsZQ%3D%3D?line=8'>9</a>\u001b[0m     \u001b[39m# Track this before I update\u001b[39;00m\n\u001b[1;32m     <a href='vscode-notebook-cell:/home/cvnar1/Desktop/model/ViT/ViT_tfmodule.ipynb#Y132sZmlsZQ%3D%3D?line=9'>10</a>\u001b[0m     \u001b[39m# Ws.append(model.w.numpy())\u001b[39;00m\n\u001b[1;32m     <a href='vscode-notebook-cell:/home/cvnar1/Desktop/model/ViT/ViT_tfmodule.ipynb#Y132sZmlsZQ%3D%3D?line=10'>11</a>\u001b[0m     \u001b[39m# bs.append(model.b.numpy())\u001b[39;00m\n\u001b[1;32m     <a href='vscode-notebook-cell:/home/cvnar1/Desktop/model/ViT/ViT_tfmodule.ipynb#Y132sZmlsZQ%3D%3D?line=11'>12</a>\u001b[0m     current_loss \u001b[39m=\u001b[39m cce(y, model(x))\n",
      "\u001b[1;32m/home/cvnar1/Desktop/model/ViT/ViT_tfmodule.ipynb 셀 37\u001b[0m in \u001b[0;36mtrain\u001b[0;34m(model, x, y, learning_rate)\u001b[0m\n\u001b[1;32m      <a href='vscode-notebook-cell:/home/cvnar1/Desktop/model/ViT/ViT_tfmodule.ipynb#Y132sZmlsZQ%3D%3D?line=2'>3</a>\u001b[0m \u001b[39mdef\u001b[39;00m \u001b[39mtrain\u001b[39m(model, x, y, learning_rate):\n\u001b[1;32m      <a href='vscode-notebook-cell:/home/cvnar1/Desktop/model/ViT/ViT_tfmodule.ipynb#Y132sZmlsZQ%3D%3D?line=4'>5</a>\u001b[0m   \u001b[39mwith\u001b[39;00m tf\u001b[39m.\u001b[39mGradientTape() \u001b[39mas\u001b[39;00m t:\n\u001b[1;32m      <a href='vscode-notebook-cell:/home/cvnar1/Desktop/model/ViT/ViT_tfmodule.ipynb#Y132sZmlsZQ%3D%3D?line=5'>6</a>\u001b[0m     \u001b[39m# Trainable variables are automatically tracked by GradientTape\u001b[39;00m\n\u001b[0;32m----> <a href='vscode-notebook-cell:/home/cvnar1/Desktop/model/ViT/ViT_tfmodule.ipynb#Y132sZmlsZQ%3D%3D?line=6'>7</a>\u001b[0m     current_loss \u001b[39m=\u001b[39m cce(y, model(x))\n\u001b[1;32m      <a href='vscode-notebook-cell:/home/cvnar1/Desktop/model/ViT/ViT_tfmodule.ipynb#Y132sZmlsZQ%3D%3D?line=8'>9</a>\u001b[0m   \u001b[39m# Use GradientTape to calculate the gradients with respect to W and b\u001b[39;00m\n\u001b[1;32m     <a href='vscode-notebook-cell:/home/cvnar1/Desktop/model/ViT/ViT_tfmodule.ipynb#Y132sZmlsZQ%3D%3D?line=9'>10</a>\u001b[0m   gradients \u001b[39m=\u001b[39m t\u001b[39m.\u001b[39mgradient(current_loss, model\u001b[39m.\u001b[39mtrainable_variables)\n",
      "\u001b[1;32m/home/cvnar1/Desktop/model/ViT/ViT_tfmodule.ipynb 셀 37\u001b[0m in \u001b[0;36mVisionTransformer.__call__\u001b[0;34m(self, inputs)\u001b[0m\n\u001b[1;32m     <a href='vscode-notebook-cell:/home/cvnar1/Desktop/model/ViT/ViT_tfmodule.ipynb#Y132sZmlsZQ%3D%3D?line=9'>10</a>\u001b[0m \u001b[39mdef\u001b[39;00m \u001b[39m__call__\u001b[39m(\u001b[39mself\u001b[39m, inputs):\n\u001b[1;32m     <a href='vscode-notebook-cell:/home/cvnar1/Desktop/model/ViT/ViT_tfmodule.ipynb#Y132sZmlsZQ%3D%3D?line=10'>11</a>\u001b[0m     \u001b[39m# (batch, height, width)\u001b[39;00m\n\u001b[1;32m     <a href='vscode-notebook-cell:/home/cvnar1/Desktop/model/ViT/ViT_tfmodule.ipynb#Y132sZmlsZQ%3D%3D?line=11'>12</a>\u001b[0m     patches \u001b[39m=\u001b[39m tf\u001b[39m.\u001b[39mimage\u001b[39m.\u001b[39mextract_patches(\n\u001b[1;32m     <a href='vscode-notebook-cell:/home/cvnar1/Desktop/model/ViT/ViT_tfmodule.ipynb#Y132sZmlsZQ%3D%3D?line=12'>13</a>\u001b[0m         inputs,\n\u001b[1;32m     <a href='vscode-notebook-cell:/home/cvnar1/Desktop/model/ViT/ViT_tfmodule.ipynb#Y132sZmlsZQ%3D%3D?line=13'>14</a>\u001b[0m         sizes\u001b[39m=\u001b[39m[\u001b[39m1\u001b[39m,\u001b[39mself\u001b[39m\u001b[39m.\u001b[39mpatch_size,\u001b[39mself\u001b[39m\u001b[39m.\u001b[39mpatch_size,\u001b[39m1\u001b[39m], \n\u001b[0;32m   (...)\u001b[0m\n\u001b[1;32m     <a href='vscode-notebook-cell:/home/cvnar1/Desktop/model/ViT/ViT_tfmodule.ipynb#Y132sZmlsZQ%3D%3D?line=16'>17</a>\u001b[0m         padding\u001b[39m=\u001b[39m\u001b[39m'\u001b[39m\u001b[39mVALID\u001b[39m\u001b[39m'\u001b[39m\n\u001b[1;32m     <a href='vscode-notebook-cell:/home/cvnar1/Desktop/model/ViT/ViT_tfmodule.ipynb#Y132sZmlsZQ%3D%3D?line=17'>18</a>\u001b[0m     )\n\u001b[0;32m---> <a href='vscode-notebook-cell:/home/cvnar1/Desktop/model/ViT/ViT_tfmodule.ipynb#Y132sZmlsZQ%3D%3D?line=18'>19</a>\u001b[0m     encoded \u001b[39m=\u001b[39m \u001b[39mself\u001b[39;49m\u001b[39m.\u001b[39;49mencoder(patches)\n\u001b[1;32m     <a href='vscode-notebook-cell:/home/cvnar1/Desktop/model/ViT/ViT_tfmodule.ipynb#Y132sZmlsZQ%3D%3D?line=19'>20</a>\u001b[0m     \u001b[39mself\u001b[39m\u001b[39m.\u001b[39mclass_token \u001b[39m=\u001b[39m encoded[:,\u001b[39m0\u001b[39m,:]\n\u001b[1;32m     <a href='vscode-notebook-cell:/home/cvnar1/Desktop/model/ViT/ViT_tfmodule.ipynb#Y132sZmlsZQ%3D%3D?line=20'>21</a>\u001b[0m     \u001b[39mif\u001b[39;00m \u001b[39mlen\u001b[39m(\u001b[39mself\u001b[39m\u001b[39m.\u001b[39mclass_token\u001b[39m.\u001b[39mshape) \u001b[39m==\u001b[39m \u001b[39m3\u001b[39m:\n",
      "\u001b[1;32m/home/cvnar1/Desktop/model/ViT/ViT_tfmodule.ipynb 셀 37\u001b[0m in \u001b[0;36mEncoder.__call__\u001b[0;34m(self, inputs)\u001b[0m\n\u001b[1;32m     <a href='vscode-notebook-cell:/home/cvnar1/Desktop/model/ViT/ViT_tfmodule.ipynb#Y132sZmlsZQ%3D%3D?line=10'>11</a>\u001b[0m \u001b[39mself\u001b[39m\u001b[39m.\u001b[39memb \u001b[39m=\u001b[39m \u001b[39mself\u001b[39m\u001b[39m.\u001b[39mpatch_embedding(inputs)\n\u001b[1;32m     <a href='vscode-notebook-cell:/home/cvnar1/Desktop/model/ViT/ViT_tfmodule.ipynb#Y132sZmlsZQ%3D%3D?line=11'>12</a>\u001b[0m \u001b[39mfor\u001b[39;00m i \u001b[39min\u001b[39;00m \u001b[39mrange\u001b[39m(\u001b[39mself\u001b[39m\u001b[39m.\u001b[39mblock_num):\n\u001b[0;32m---> <a href='vscode-notebook-cell:/home/cvnar1/Desktop/model/ViT/ViT_tfmodule.ipynb#Y132sZmlsZQ%3D%3D?line=12'>13</a>\u001b[0m     \u001b[39mself\u001b[39m\u001b[39m.\u001b[39mencoded \u001b[39m=\u001b[39m \u001b[39mself\u001b[39;49m\u001b[39m.\u001b[39;49mencoder_block(\u001b[39mself\u001b[39;49m\u001b[39m.\u001b[39;49memb)\n\u001b[1;32m     <a href='vscode-notebook-cell:/home/cvnar1/Desktop/model/ViT/ViT_tfmodule.ipynb#Y132sZmlsZQ%3D%3D?line=14'>15</a>\u001b[0m \u001b[39m# self.encoded_norm = self.encoder_norm(self.encoded)\u001b[39;00m\n\u001b[1;32m     <a href='vscode-notebook-cell:/home/cvnar1/Desktop/model/ViT/ViT_tfmodule.ipynb#Y132sZmlsZQ%3D%3D?line=15'>16</a>\u001b[0m \u001b[39m'''\u001b[39;00m\n\u001b[1;32m     <a href='vscode-notebook-cell:/home/cvnar1/Desktop/model/ViT/ViT_tfmodule.ipynb#Y132sZmlsZQ%3D%3D?line=16'>17</a>\u001b[0m \u001b[39mTODO check encoder norm is needed.\u001b[39;00m\n\u001b[1;32m     <a href='vscode-notebook-cell:/home/cvnar1/Desktop/model/ViT/ViT_tfmodule.ipynb#Y132sZmlsZQ%3D%3D?line=17'>18</a>\u001b[0m \u001b[39mencoded_norm makes the final result all zero.\u001b[39;00m\n\u001b[1;32m     <a href='vscode-notebook-cell:/home/cvnar1/Desktop/model/ViT/ViT_tfmodule.ipynb#Y132sZmlsZQ%3D%3D?line=18'>19</a>\u001b[0m \u001b[39m'''\u001b[39;00m\n",
      "\u001b[1;32m/home/cvnar1/Desktop/model/ViT/ViT_tfmodule.ipynb 셀 37\u001b[0m in \u001b[0;36mEncoderBlock.__call__\u001b[0;34m(self, inputs)\u001b[0m\n\u001b[1;32m     <a href='vscode-notebook-cell:/home/cvnar1/Desktop/model/ViT/ViT_tfmodule.ipynb#Y132sZmlsZQ%3D%3D?line=28'>29</a>\u001b[0m \u001b[39mdef\u001b[39;00m \u001b[39m__call__\u001b[39m(\u001b[39mself\u001b[39m, inputs):\n\u001b[0;32m---> <a href='vscode-notebook-cell:/home/cvnar1/Desktop/model/ViT/ViT_tfmodule.ipynb#Y132sZmlsZQ%3D%3D?line=29'>30</a>\u001b[0m     x1 \u001b[39m=\u001b[39m \u001b[39mself\u001b[39;49m\u001b[39m.\u001b[39;49mlayer_norm(inputs)\n\u001b[1;32m     <a href='vscode-notebook-cell:/home/cvnar1/Desktop/model/ViT/ViT_tfmodule.ipynb#Y132sZmlsZQ%3D%3D?line=30'>31</a>\u001b[0m     x1 \u001b[39m=\u001b[39m \u001b[39mself\u001b[39m\u001b[39m.\u001b[39mMHA(x1,x1)\n\u001b[1;32m     <a href='vscode-notebook-cell:/home/cvnar1/Desktop/model/ViT/ViT_tfmodule.ipynb#Y132sZmlsZQ%3D%3D?line=31'>32</a>\u001b[0m     x1 \u001b[39m=\u001b[39m \u001b[39mself\u001b[39m\u001b[39m.\u001b[39mdropout(x1)\n",
      "File \u001b[0;32m~/anaconda3/envs/tensorflow2.8/lib/python3.9/site-packages/keras/utils/traceback_utils.py:67\u001b[0m, in \u001b[0;36mfilter_traceback.<locals>.error_handler\u001b[0;34m(*args, **kwargs)\u001b[0m\n\u001b[1;32m     65\u001b[0m \u001b[39mexcept\u001b[39;00m \u001b[39mException\u001b[39;00m \u001b[39mas\u001b[39;00m e:  \u001b[39m# pylint: disable=broad-except\u001b[39;00m\n\u001b[1;32m     66\u001b[0m   filtered_tb \u001b[39m=\u001b[39m _process_traceback_frames(e\u001b[39m.\u001b[39m__traceback__)\n\u001b[0;32m---> 67\u001b[0m   \u001b[39mraise\u001b[39;00m e\u001b[39m.\u001b[39mwith_traceback(filtered_tb) \u001b[39mfrom\u001b[39;00m \u001b[39mNone\u001b[39m\n\u001b[1;32m     68\u001b[0m \u001b[39mfinally\u001b[39;00m:\n\u001b[1;32m     69\u001b[0m   \u001b[39mdel\u001b[39;00m filtered_tb\n",
      "File \u001b[0;32m~/anaconda3/envs/tensorflow2.8/lib/python3.9/site-packages/tensorflow/python/eager/execute.py:54\u001b[0m, in \u001b[0;36mquick_execute\u001b[0;34m(op_name, num_outputs, inputs, attrs, ctx, name)\u001b[0m\n\u001b[1;32m     52\u001b[0m \u001b[39mtry\u001b[39;00m:\n\u001b[1;32m     53\u001b[0m   ctx\u001b[39m.\u001b[39mensure_initialized()\n\u001b[0;32m---> 54\u001b[0m   tensors \u001b[39m=\u001b[39m pywrap_tfe\u001b[39m.\u001b[39mTFE_Py_Execute(ctx\u001b[39m.\u001b[39m_handle, device_name, op_name,\n\u001b[1;32m     55\u001b[0m                                       inputs, attrs, num_outputs)\n\u001b[1;32m     56\u001b[0m \u001b[39mexcept\u001b[39;00m core\u001b[39m.\u001b[39m_NotOkStatusException \u001b[39mas\u001b[39;00m e:\n\u001b[1;32m     57\u001b[0m   \u001b[39mif\u001b[39;00m name \u001b[39mis\u001b[39;00m \u001b[39mnot\u001b[39;00m \u001b[39mNone\u001b[39;00m:\n",
      "\u001b[0;31mInvalidArgumentError\u001b[0m: Exception encountered when calling layer \"encoder_block_layer_norm\" (type LayerNormalization).\n\nInput to reshape is a tensor with 10 values, but the requested shape has 10000 [Op:Reshape]\n\nCall arguments received:\n  • inputs=tf.Tensor(shape=(10000, 5, 20), dtype=float32)"
     ]
    }
   ],
   "source": [
    "training_loop(vit, x_test, y_test)"
   ]
  }
 ],
 "metadata": {
  "kernelspec": {
   "display_name": "Python 3.9.7 ('tensorflow2.8')",
   "language": "python",
   "name": "python3"
  },
  "language_info": {
   "codemirror_mode": {
    "name": "ipython",
    "version": 3
   },
   "file_extension": ".py",
   "mimetype": "text/x-python",
   "name": "python",
   "nbconvert_exporter": "python",
   "pygments_lexer": "ipython3",
   "version": "3.9.7"
  },
  "orig_nbformat": 4,
  "vscode": {
   "interpreter": {
    "hash": "05a0b0d24b486f762a660818e658a0e3bfd75854f8c75d6662c85db23d29aee5"
   }
  }
 },
 "nbformat": 4,
 "nbformat_minor": 2
}
